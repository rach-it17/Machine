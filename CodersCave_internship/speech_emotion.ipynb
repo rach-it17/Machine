{
 "cells": [
  {
   "cell_type": "code",
   "execution_count": 17,
   "metadata": {},
   "outputs": [],
   "source": [
    "import numpy as np\n",
    "import pandas as pd\n",
    "import librosa\n",
    "import librosa.display\n",
    "from IPython.display import Audio\n",
    "import warnings\n",
    "warnings.filterwarnings(\"ignore\")\n",
    "import os"
   ]
  },
  {
   "cell_type": "code",
   "execution_count": 26,
   "metadata": {},
   "outputs": [],
   "source": [
    "paths=[]\n",
    "labels=[]\n",
    "for dirname, _, filenames in os.walk(r'C:\\Users\\rachi\\Desktop\\py\\Machine\\CodersCave_internship\\TESS Toronto emotional speech set data'):\n",
    "    for filename in filenames:\n",
    "        paths.append(os.path.join(dirname, filename))\n",
    "        label=filename.split('_')[-1]\n",
    "        label=label.split('.')[0]\n",
    "        labels.append(label.lower())"
   ]
  },
  {
   "cell_type": "code",
   "execution_count": 27,
   "metadata": {},
   "outputs": [],
   "source": [
    "df=pd.DataFrame()\n",
    "df['speech']=paths\n",
    "df['label']=labels"
   ]
  },
  {
   "cell_type": "code",
   "execution_count": 28,
   "metadata": {},
   "outputs": [
    {
     "data": {
      "text/plain": [
       "0       angry\n",
       "1       angry\n",
       "2       angry\n",
       "3       angry\n",
       "4       angry\n",
       "        ...  \n",
       "5469      sad\n",
       "5470      sad\n",
       "5471      sad\n",
       "5472      sad\n",
       "5473      sad\n",
       "Name: label, Length: 5474, dtype: object"
      ]
     },
     "execution_count": 28,
     "metadata": {},
     "output_type": "execute_result"
    }
   ],
   "source": [
    "df['label']"
   ]
  },
  {
   "cell_type": "code",
   "execution_count": 29,
   "metadata": {},
   "outputs": [],
   "source": [
    "def extract_mfcc(filename):\n",
    "    y,sr=librosa.load(filename,duration=3,offset=0.5)\n",
    "    mfcc=np.mean(librosa.feature.mfcc(y=y,sr=sr,n_mfcc=40).T,axis=0)\n",
    "    return mfcc"
   ]
  },
  {
   "cell_type": "code",
   "execution_count": 30,
   "metadata": {},
   "outputs": [],
   "source": [
    "x_mfcc=df['speech'].apply(lambda X: extract_mfcc(X))"
   ]
  },
  {
   "cell_type": "code",
   "execution_count": 37,
   "metadata": {},
   "outputs": [
    {
     "data": {
      "text/plain": [
       "(5474, 40)"
      ]
     },
     "execution_count": 37,
     "metadata": {},
     "output_type": "execute_result"
    }
   ],
   "source": [
    "x=[X for X in x_mfcc]\n",
    "x=np.array(x)\n",
    "x.shape"
   ]
  },
  {
   "cell_type": "code",
   "execution_count": 40,
   "metadata": {},
   "outputs": [
    {
     "data": {
      "text/plain": [
       "(5474, 40, 1)"
      ]
     },
     "execution_count": 40,
     "metadata": {},
     "output_type": "execute_result"
    }
   ],
   "source": [
    "X=np.expand_dims(x,-1)\n",
    "X.shape"
   ]
  },
  {
   "cell_type": "code",
   "execution_count": 54,
   "metadata": {},
   "outputs": [
    {
     "data": {
      "text/plain": [
       "(5474, 7)"
      ]
     },
     "execution_count": 54,
     "metadata": {},
     "output_type": "execute_result"
    }
   ],
   "source": [
    "from sklearn.preprocessing import OneHotEncoder\n",
    "enc=OneHotEncoder()\n",
    "y=enc.fit_transform(df[['label']])\n",
    "y=y.toarray()\n",
    "y.shape"
   ]
  },
  {
   "cell_type": "code",
   "execution_count": 55,
   "metadata": {},
   "outputs": [],
   "source": [
    "from keras.models import Sequential\n",
    "from keras.layers import Dense,LSTM,Dropout"
   ]
  },
  {
   "cell_type": "code",
   "execution_count": 60,
   "metadata": {},
   "outputs": [
    {
     "name": "stdout",
     "output_type": "stream",
     "text": [
      "Model: \"sequential_4\"\n",
      "_________________________________________________________________\n",
      " Layer (type)                Output Shape              Param #   \n",
      "=================================================================\n",
      " lstm_5 (LSTM)               (None, 123)               61500     \n",
      "                                                                 \n",
      " dense_9 (Dense)             (None, 64)                7936      \n",
      "                                                                 \n",
      " dropout_6 (Dropout)         (None, 64)                0         \n",
      "                                                                 \n",
      " dense_10 (Dense)            (None, 32)                2080      \n",
      "                                                                 \n",
      " dropout_7 (Dropout)         (None, 32)                0         \n",
      "                                                                 \n",
      " dense_11 (Dense)            (None, 7)                 231       \n",
      "                                                                 \n",
      "=================================================================\n",
      "Total params: 71,747\n",
      "Trainable params: 71,747\n",
      "Non-trainable params: 0\n",
      "_________________________________________________________________\n"
     ]
    }
   ],
   "source": [
    "Model=Sequential([\n",
    "    LSTM(123,return_sequences= False, input_shape=(40,1)),\n",
    "    Dense(64, activation='relu'),\n",
    "    Dropout(0.2),\n",
    "    Dense(32,activation='relu'),\n",
    "    Dropout(0.2),\n",
    "    Dense(7,activation='softmax')\n",
    "])\n",
    "Model.compile(loss='categorical_crossentropy',optimizer='adam',metrics=['accuracy'])\n",
    "Model.summary()"
   ]
  },
  {
   "cell_type": "code",
   "execution_count": 61,
   "metadata": {},
   "outputs": [
    {
     "name": "stdout",
     "output_type": "stream",
     "text": [
      "Epoch 1/10\n",
      "9/9 [==============================] - 5s 311ms/step - loss: 1.9028 - accuracy: 0.2797 - val_loss: 1.8500 - val_accuracy: 0.3489\n",
      "Epoch 2/10\n",
      "9/9 [==============================] - 2s 245ms/step - loss: 1.6547 - accuracy: 0.4421 - val_loss: 1.5138 - val_accuracy: 0.4904\n",
      "Epoch 3/10\n",
      "9/9 [==============================] - 2s 262ms/step - loss: 1.3474 - accuracy: 0.5118 - val_loss: 1.1196 - val_accuracy: 0.5918\n",
      "Epoch 4/10\n",
      "9/9 [==============================] - 2s 252ms/step - loss: 1.1380 - accuracy: 0.5675 - val_loss: 0.9126 - val_accuracy: 0.6155\n",
      "Epoch 5/10\n",
      "9/9 [==============================] - 2s 240ms/step - loss: 0.9622 - accuracy: 0.6422 - val_loss: 0.6998 - val_accuracy: 0.7151\n",
      "Epoch 6/10\n",
      "9/9 [==============================] - 2s 213ms/step - loss: 0.7707 - accuracy: 0.7344 - val_loss: 0.4868 - val_accuracy: 0.8639\n",
      "Epoch 7/10\n",
      "9/9 [==============================] - 2s 207ms/step - loss: 0.5571 - accuracy: 0.8130 - val_loss: 0.2634 - val_accuracy: 0.9452\n",
      "Epoch 8/10\n",
      "9/9 [==============================] - 2s 234ms/step - loss: 0.3837 - accuracy: 0.8824 - val_loss: 0.1827 - val_accuracy: 0.9516\n",
      "Epoch 9/10\n",
      "9/9 [==============================] - 2s 212ms/step - loss: 0.2781 - accuracy: 0.9221 - val_loss: 0.1473 - val_accuracy: 0.9616\n",
      "Epoch 10/10\n",
      "9/9 [==============================] - 2s 222ms/step - loss: 0.2306 - accuracy: 0.9313 - val_loss: 0.1381 - val_accuracy: 0.9553\n"
     ]
    }
   ],
   "source": [
    "h=Model.fit(x,y,validation_split=0.2,epochs=10,batch_size=512,shuffle=True)"
   ]
  },
  {
   "cell_type": "code",
   "execution_count": null,
   "metadata": {},
   "outputs": [],
   "source": []
  }
 ],
 "metadata": {
  "kernelspec": {
   "display_name": "Python 3",
   "language": "python",
   "name": "python3"
  },
  "language_info": {
   "codemirror_mode": {
    "name": "ipython",
    "version": 3
   },
   "file_extension": ".py",
   "mimetype": "text/x-python",
   "name": "python",
   "nbconvert_exporter": "python",
   "pygments_lexer": "ipython3",
   "version": "3.10.7"
  },
  "orig_nbformat": 4
 },
 "nbformat": 4,
 "nbformat_minor": 2
}
