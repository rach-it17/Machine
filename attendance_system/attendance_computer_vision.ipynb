{
 "cells": [
  {
   "cell_type": "code",
   "execution_count": 1,
   "metadata": {},
   "outputs": [
    {
     "name": "stderr",
     "output_type": "stream",
     "text": [
      "c:\\Users\\rachi\\AppData\\Local\\Programs\\Python\\Python310\\lib\\site-packages\\numpy\\_distributor_init.py:30: UserWarning: loaded more than 1 DLL from .libs:\n",
      "c:\\Users\\rachi\\AppData\\Local\\Programs\\Python\\Python310\\lib\\site-packages\\numpy\\.libs\\libopenblas.FB5AE2TYXYH2IJRDKGDGQ3XBKLKTF43H.gfortran-win_amd64.dll\n",
      "c:\\Users\\rachi\\AppData\\Local\\Programs\\Python\\Python310\\lib\\site-packages\\numpy\\.libs\\libopenblas.XWYDX2IKJW2NMTWSFYNGFUWKQU3LYTCZ.gfortran-win_amd64.dll\n",
      "  warnings.warn(\"loaded more than 1 DLL from .libs:\"\n"
     ]
    }
   ],
   "source": [
    "import cv2\n",
    "import glob\n"
   ]
  },
  {
   "cell_type": "code",
   "execution_count": 2,
   "metadata": {},
   "outputs": [],
   "source": [
    "from sklearn.ensemble import AdaBoostClassifier\n",
    "from sklearn.decomposition import PCA\n",
    "from sklearn.preprocessing import MinMaxScaler"
   ]
  },
  {
   "cell_type": "code",
   "execution_count": 3,
   "metadata": {},
   "outputs": [],
   "source": [
    "img_vid=cv2.VideoCapture(0)\n",
    "Model_face=cv2.CascadeClassifier(\"trained model\\haarcascade_frontalface_alt_tree.xml\")\n",
    "i=1\n",
    "while True:\n",
    "    flag,img=img_vid.read()\n",
    "    if flag==False:\n",
    "        break\n",
    "    img2=cv2.cvtColor(img,cv2.COLOR_BGR2GRAY)\n",
    "    face=Model_face.detectMultiScale(img2,minNeighbors=1)\n",
    "    for x,y,w,h in face:\n",
    "        cv2.rectangle(img,(x,y,w,h),(0,0,255),2)\n",
    "        img3=img2[y:y+h,x:x+w]\n",
    "        img4=cv2.resize(img3,(100,100))\n",
    "        cv2.imwrite(f\"sub/{i}.jpg\",img4)\n",
    "        i+=1\n",
    "    cv2.imshow(\"window\",img)\n",
    "    key=cv2.waitKey(50)\n",
    "    if key==ord(\"c\"):\n",
    "        break\n",
    "    if i==500:\n",
    "        break\n",
    "cv2.destroyAllWindows()\n",
    "img_vid.release()"
   ]
  },
  {
   "cell_type": "code",
   "execution_count": 4,
   "metadata": {},
   "outputs": [],
   "source": [
    "x=[]\n",
    "y=[]\n",
    "address_rachit=glob.glob(r\"C:\\Users\\rachi\\Desktop\\py\\Machine\\attendance_system\\Rachit\\*.*\")\n",
    "for i in address_rachit:\n",
    "    img=cv2.imread(i,0)\n",
    "    flat_img=img.flatten()\n",
    "    x.append(flat_img)\n",
    "    y.append(\"Rachit\")"
   ]
  },
  {
   "cell_type": "code",
   "execution_count": 5,
   "metadata": {},
   "outputs": [],
   "source": [
    "address_sakshi=glob.glob(r\"C:\\Users\\rachi\\Desktop\\py\\Machine\\attendance_system\\sakshi\\*.*\")\n",
    "for i in address_sakshi:\n",
    "    img=cv2.imread(i,0)\n",
    "    flat_img=img.flatten()\n",
    "    x.append(flat_img)\n",
    "    y.append(\"Sakshi\")"
   ]
  },
  {
   "cell_type": "code",
   "execution_count": 6,
   "metadata": {},
   "outputs": [],
   "source": [
    "address_sub=glob.glob(r\"C:\\Users\\rachi\\Desktop\\py\\Machine\\attendance_system\\sub\\*.*\")\n",
    "for i in address_sub:\n",
    "    img=cv2.imread(i,0)\n",
    "    flat_img=img.flatten()\n",
    "    x.append(flat_img)\n",
    "    y.append(\"papa\")"
   ]
  },
  {
   "cell_type": "code",
   "execution_count": 7,
   "metadata": {},
   "outputs": [],
   "source": [
    "sc=MinMaxScaler()\n",
    "x_sc=sc.fit_transform(x)\n",
    "pca=PCA(0.99)\n",
    "x_pca=pca.fit_transform(x_sc)\n"
   ]
  },
  {
   "cell_type": "code",
   "execution_count": 8,
   "metadata": {},
   "outputs": [
    {
     "data": {
      "text/plain": [
       "0.7294589178356713"
      ]
     },
     "execution_count": 8,
     "metadata": {},
     "output_type": "execute_result"
    }
   ],
   "source": [
    "Model=AdaBoostClassifier()\n",
    "Model.fit(x_pca,y)\n",
    "Model.score(x_pca,y)"
   ]
  },
  {
   "cell_type": "code",
   "execution_count": 9,
   "metadata": {},
   "outputs": [
    {
     "name": "stdout",
     "output_type": "stream",
     "text": [
      "['papa']\n",
      "['papa']\n",
      "['papa']\n",
      "['papa']\n",
      "['Rachit']\n",
      "['papa']\n",
      "['papa']\n",
      "['papa']\n",
      "['papa']\n",
      "['papa']\n",
      "['Rachit']\n",
      "['Rachit']\n",
      "['Rachit']\n",
      "['Rachit']\n",
      "['Rachit']\n",
      "['papa']\n",
      "['papa']\n",
      "['papa']\n",
      "['papa']\n",
      "['papa']\n",
      "['papa']\n",
      "['Rachit']\n",
      "['Rachit']\n",
      "['Rachit']\n",
      "['Rachit']\n",
      "['Rachit']\n",
      "['Rachit']\n",
      "['Rachit']\n",
      "['Rachit']\n",
      "['Rachit']\n",
      "['Rachit']\n",
      "['Rachit']\n",
      "['Rachit']\n",
      "['Rachit']\n",
      "['Rachit']\n",
      "['Rachit']\n",
      "['papa']\n",
      "['Rachit']\n",
      "['Rachit']\n",
      "['Rachit']\n",
      "['Rachit']\n",
      "['Rachit']\n"
     ]
    }
   ],
   "source": [
    "img_vid=cv2.VideoCapture(0)\n",
    "Model_face=cv2.CascadeClassifier(\"trained model\\haarcascade_frontalface_alt_tree.xml\")\n",
    "ns=0\n",
    "while True:\n",
    "    flag,img=img_vid.read()\n",
    "    if flag==False:\n",
    "        break\n",
    "    img2=cv2.cvtColor(img,cv2.COLOR_BGR2GRAY)\n",
    "    face=Model_face.detectMultiScale(img2,minNeighbors=1)\n",
    "    for x,y,w,h in face:\n",
    "        cv2.rectangle(img,(x,y,w,h),(0,0,255),2)\n",
    "        img3=img2[y:y+h,x:x+w]\n",
    "        img4=cv2.resize(img3,(100,100))\n",
    "        img5=[img4.flatten()]\n",
    "        img6=sc.transform(img5)\n",
    "        img7=pca.transform(img6)\n",
    "        result=Model.predict(img7)\n",
    "        print(result)\n",
    "    cv2.putText(img,text=result[0],org=(x+10,y-10),fontFace=cv2.FONT_HERSHEY_COMPLEX,color=(0,0,255),thickness=2,fontScale=1)\n",
    "    result2=Model.predict_proba(img7)\n",
    "    cv2.imshow(\"window\",img)\n",
    "    key=cv2.waitKey(50)\n",
    "    if key==ord(\"c\"):\n",
    "        break\n",
    "cv2.destroyAllWindows()\n",
    "img_vid.release()\n"
   ]
  },
  {
   "cell_type": "code",
   "execution_count": 12,
   "metadata": {},
   "outputs": [
    {
     "name": "stdout",
     "output_type": "stream",
     "text": [
      "<class 'list'>\n"
     ]
    }
   ],
   "source": [
    "print(type(result))"
   ]
  },
  {
   "cell_type": "code",
   "execution_count": 9,
   "metadata": {},
   "outputs": [],
   "source": [
    "count=0\n",
    "count_r=0\n",
    "for j in result:\n",
    "    if j==\"sakshi\":\n",
    "        count+=1\n",
    "        if count==10:\n",
    "            print(\"sakshi present\")\n",
    "        else:\n",
    "            print(\"absent\")\n",
    "    if j==\"Rachit\":\n",
    "        count_r+=1\n",
    "        if count_r==10:\n",
    "            print(\"rachit present\")\n",
    "        else:\n",
    "            print(\"absent\")"
   ]
  },
  {
   "cell_type": "code",
   "execution_count": 48,
   "metadata": {},
   "outputs": [
    {
     "name": "stdout",
     "output_type": "stream",
     "text": [
      "1\n"
     ]
    }
   ],
   "source": [
    "if True:\n",
    "    print(1)\n",
    "elif False:\n",
    "    print(2)"
   ]
  },
  {
   "cell_type": "code",
   "execution_count": 1,
   "metadata": {},
   "outputs": [],
   "source": [
    "from tkinter import *\n",
    "e= Entry(root,_EntryValidateCommand=)"
   ]
  },
  {
   "cell_type": "code",
   "execution_count": null,
   "metadata": {},
   "outputs": [],
   "source": []
  }
 ],
 "metadata": {
  "kernelspec": {
   "display_name": "Python 3",
   "language": "python",
   "name": "python3"
  },
  "language_info": {
   "codemirror_mode": {
    "name": "ipython",
    "version": 3
   },
   "file_extension": ".py",
   "mimetype": "text/x-python",
   "name": "python",
   "nbconvert_exporter": "python",
   "pygments_lexer": "ipython3",
   "version": "3.10.7"
  },
  "orig_nbformat": 4
 },
 "nbformat": 4,
 "nbformat_minor": 2
}
