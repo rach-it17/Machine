{
 "cells": [
  {
   "cell_type": "code",
   "execution_count": 2,
   "id": "95ac0484-5216-47ca-b0e3-08df26a1c735",
   "metadata": {},
   "outputs": [
    {
     "name": "stderr",
     "output_type": "stream",
     "text": [
      "c:\\Users\\rachi\\AppData\\Local\\Programs\\Python\\Python310\\lib\\site-packages\\numpy\\_distributor_init.py:30: UserWarning: loaded more than 1 DLL from .libs:\n",
      "c:\\Users\\rachi\\AppData\\Local\\Programs\\Python\\Python310\\lib\\site-packages\\numpy\\.libs\\libopenblas.FB5AE2TYXYH2IJRDKGDGQ3XBKLKTF43H.gfortran-win_amd64.dll\n",
      "c:\\Users\\rachi\\AppData\\Local\\Programs\\Python\\Python310\\lib\\site-packages\\numpy\\.libs\\libopenblas.XWYDX2IKJW2NMTWSFYNGFUWKQU3LYTCZ.gfortran-win_amd64.dll\n",
      "  warnings.warn(\"loaded more than 1 DLL from .libs:\"\n"
     ]
    }
   ],
   "source": [
    "\n",
    "# this is on content based recommendation system\n",
    "import numpy as np\n",
    "import pandas as pd\n",
    "import difflib                  # we use difflib library to get the closest match\n",
    "from sklearn.feature_extraction.text import TfidfVectorizer   # TfidfVectorizer to convert textual data into numerical form \n",
    "from sklearn.metrics.pairwise import cosine_similarity\n",
    "\n",
    "\n"
   ]
  },
  {
   "cell_type": "code",
   "execution_count": 34,
   "id": "d2abe2bb",
   "metadata": {},
   "outputs": [],
   "source": [
    "\n",
    "# loading the data from csv to a pandas dataframe\n",
    "movies_data=pd.read_csv(\"movies.csv\")\n",
    "\n",
    "\n"
   ]
  },
  {
   "cell_type": "code",
   "execution_count": 35,
   "id": "e42490ae",
   "metadata": {
    "scrolled": true
   },
   "outputs": [
    {
     "data": {
      "text/html": [
       "<div>\n",
       "<style scoped>\n",
       "    .dataframe tbody tr th:only-of-type {\n",
       "        vertical-align: middle;\n",
       "    }\n",
       "\n",
       "    .dataframe tbody tr th {\n",
       "        vertical-align: top;\n",
       "    }\n",
       "\n",
       "    .dataframe thead th {\n",
       "        text-align: right;\n",
       "    }\n",
       "</style>\n",
       "<table border=\"1\" class=\"dataframe\">\n",
       "  <thead>\n",
       "    <tr style=\"text-align: right;\">\n",
       "      <th></th>\n",
       "      <th>movie_id</th>\n",
       "      <th>description</th>\n",
       "      <th>language</th>\n",
       "      <th>released</th>\n",
       "      <th>rating</th>\n",
       "      <th>writer</th>\n",
       "      <th>director</th>\n",
       "      <th>cast</th>\n",
       "      <th>genre</th>\n",
       "      <th>name</th>\n",
       "      <th>index</th>\n",
       "    </tr>\n",
       "  </thead>\n",
       "  <tbody>\n",
       "    <tr>\n",
       "      <th>0</th>\n",
       "      <td>tt5286444</td>\n",
       "      <td>Neerja is the story of the courageous Neerja B...</td>\n",
       "      <td>[ \"Hindi\" ]</td>\n",
       "      <td>2016-02-19T00:00:00.000Z</td>\n",
       "      <td>7.9</td>\n",
       "      <td>[ \"Saiwyn Quadras\", \"Sanyukta Shaikh Chawla\" ]</td>\n",
       "      <td>[ \"Ram Madhvani\" ]</td>\n",
       "      <td>[ \"Sonam Kapoor\", \"Shabana Azmi\", \"Yogendra Ti...</td>\n",
       "      <td>[ \"Biography\", \"Drama\", \"Thriller\" ]</td>\n",
       "      <td>Neerja</td>\n",
       "      <td>1</td>\n",
       "    </tr>\n",
       "    <tr>\n",
       "      <th>1</th>\n",
       "      <td>tt4434004</td>\n",
       "      <td>A story that revolves around drug abuse in the...</td>\n",
       "      <td>[ \"Hindi\", \"Panjabi\" ]</td>\n",
       "      <td>2016-06-17T00:00:00.000Z</td>\n",
       "      <td>7.9</td>\n",
       "      <td>[ \"Sudip Sharma\", \"Abhishek Chaubey\" ]</td>\n",
       "      <td>[ \"Abhishek Chaubey\" ]</td>\n",
       "      <td>[ \"Alia Bhatt\", \"Shahid Kapoor\", \"Diljit Dosan...</td>\n",
       "      <td>[ \"Crime\", \"Drama\", \"Thriller\" ]</td>\n",
       "      <td>Udta Punjab</td>\n",
       "      <td>2</td>\n",
       "    </tr>\n",
       "    <tr>\n",
       "      <th>2</th>\n",
       "      <td>tt0248126</td>\n",
       "      <td>Yashvardhan Raichand lives a very wealthy life...</td>\n",
       "      <td>[ \"Hindi\", \"English\", \"Urdu\" ]</td>\n",
       "      <td>2001-12-14T00:00:00.000Z</td>\n",
       "      <td>7.5</td>\n",
       "      <td>[ \"Karan Johar\", \"Sheena Parikh\" ]</td>\n",
       "      <td>[ \"Karan Johar\" ]</td>\n",
       "      <td>[ \"Amitabh Bachchan\", \"Jaya Bhaduri\", \"Shah Ru...</td>\n",
       "      <td>[ \"Drama\", \"Musical\", \"Romance\" ]</td>\n",
       "      <td>Kabhi Khushi Kabhie Gham...</td>\n",
       "      <td>3</td>\n",
       "    </tr>\n",
       "    <tr>\n",
       "      <th>3</th>\n",
       "      <td>tt0347304</td>\n",
       "      <td>Naina, an introverted, perpetually depressed g...</td>\n",
       "      <td>[ \"Hindi\", \"Urdu\", \"Gujarati\", \"Panjabi\" ]</td>\n",
       "      <td>2003-11-28T00:00:00.000Z</td>\n",
       "      <td>8.0</td>\n",
       "      <td>[ \"Niranjan Iyengar\", \"Karan Johar\" ]</td>\n",
       "      <td>[ \"Nikkhil Advani\" ]</td>\n",
       "      <td>[ \"Shah Rukh Khan\", \"Preity Zinta\", \"Saif Ali ...</td>\n",
       "      <td>[ \"Comedy\", \"Drama\", \"Romance\" ]</td>\n",
       "      <td>Kal Ho Naa Ho</td>\n",
       "      <td>4</td>\n",
       "    </tr>\n",
       "    <tr>\n",
       "      <th>4</th>\n",
       "      <td>tt3043252</td>\n",
       "      <td>'Parched' is a story about women set in the he...</td>\n",
       "      <td>[ \"Hindi\", \"English\" ]</td>\n",
       "      <td>2016-06-17T00:00:00.000Z</td>\n",
       "      <td>7.6</td>\n",
       "      <td>[ \"Supratik Sen\", \"Leena Yadav\" ]</td>\n",
       "      <td>[ \"Leena Yadav\" ]</td>\n",
       "      <td>[ \"Tannishtha Chatterjee\", \"Radhika Apte\", \"Le...</td>\n",
       "      <td>[ \"Drama\" ]</td>\n",
       "      <td>Parched</td>\n",
       "      <td>5</td>\n",
       "    </tr>\n",
       "  </tbody>\n",
       "</table>\n",
       "</div>"
      ],
      "text/plain": [
       "    movie_id                                        description  \\\n",
       "0  tt5286444  Neerja is the story of the courageous Neerja B...   \n",
       "1  tt4434004  A story that revolves around drug abuse in the...   \n",
       "2  tt0248126  Yashvardhan Raichand lives a very wealthy life...   \n",
       "3  tt0347304  Naina, an introverted, perpetually depressed g...   \n",
       "4  tt3043252  'Parched' is a story about women set in the he...   \n",
       "\n",
       "                                     language                  released  \\\n",
       "0                                 [ \"Hindi\" ]  2016-02-19T00:00:00.000Z   \n",
       "1                      [ \"Hindi\", \"Panjabi\" ]  2016-06-17T00:00:00.000Z   \n",
       "2              [ \"Hindi\", \"English\", \"Urdu\" ]  2001-12-14T00:00:00.000Z   \n",
       "3  [ \"Hindi\", \"Urdu\", \"Gujarati\", \"Panjabi\" ]  2003-11-28T00:00:00.000Z   \n",
       "4                      [ \"Hindi\", \"English\" ]  2016-06-17T00:00:00.000Z   \n",
       "\n",
       "   rating                                          writer  \\\n",
       "0     7.9  [ \"Saiwyn Quadras\", \"Sanyukta Shaikh Chawla\" ]   \n",
       "1     7.9          [ \"Sudip Sharma\", \"Abhishek Chaubey\" ]   \n",
       "2     7.5              [ \"Karan Johar\", \"Sheena Parikh\" ]   \n",
       "3     8.0           [ \"Niranjan Iyengar\", \"Karan Johar\" ]   \n",
       "4     7.6               [ \"Supratik Sen\", \"Leena Yadav\" ]   \n",
       "\n",
       "                 director                                               cast  \\\n",
       "0      [ \"Ram Madhvani\" ]  [ \"Sonam Kapoor\", \"Shabana Azmi\", \"Yogendra Ti...   \n",
       "1  [ \"Abhishek Chaubey\" ]  [ \"Alia Bhatt\", \"Shahid Kapoor\", \"Diljit Dosan...   \n",
       "2       [ \"Karan Johar\" ]  [ \"Amitabh Bachchan\", \"Jaya Bhaduri\", \"Shah Ru...   \n",
       "3    [ \"Nikkhil Advani\" ]  [ \"Shah Rukh Khan\", \"Preity Zinta\", \"Saif Ali ...   \n",
       "4       [ \"Leena Yadav\" ]  [ \"Tannishtha Chatterjee\", \"Radhika Apte\", \"Le...   \n",
       "\n",
       "                                  genre                         name  index  \n",
       "0  [ \"Biography\", \"Drama\", \"Thriller\" ]                       Neerja      1  \n",
       "1      [ \"Crime\", \"Drama\", \"Thriller\" ]                  Udta Punjab      2  \n",
       "2     [ \"Drama\", \"Musical\", \"Romance\" ]  Kabhi Khushi Kabhie Gham...      3  \n",
       "3      [ \"Comedy\", \"Drama\", \"Romance\" ]                Kal Ho Naa Ho      4  \n",
       "4                           [ \"Drama\" ]                      Parched      5  "
      ]
     },
     "execution_count": 35,
     "metadata": {},
     "output_type": "execute_result"
    }
   ],
   "source": [
    "#printing the first 5 rows of the dataframe\n",
    "movies_data.head(5)\n"
   ]
  },
  {
   "cell_type": "code",
   "execution_count": 36,
   "id": "87d32d38",
   "metadata": {},
   "outputs": [
    {
     "data": {
      "text/plain": [
       "movie_id          0\n",
       "description    1098\n",
       "language          0\n",
       "released        651\n",
       "rating            0\n",
       "writer            0\n",
       "director          0\n",
       "cast              0\n",
       "genre             0\n",
       "name              0\n",
       "index             0\n",
       "dtype: int64"
      ]
     },
     "execution_count": 36,
     "metadata": {},
     "output_type": "execute_result"
    }
   ],
   "source": [
    "# number of rows and column in the dataset\n",
    "movies_data.shape\n",
    "movies_data.isnull().sum()"
   ]
  },
  {
   "cell_type": "code",
   "execution_count": 37,
   "id": "93fef612",
   "metadata": {},
   "outputs": [
    {
     "name": "stdout",
     "output_type": "stream",
     "text": [
      "['genre', 'description', 'cast', 'director']\n"
     ]
    }
   ],
   "source": [
    "# selecting the relevant column for recomendation \n",
    "selected_feature=['genre','description','cast','director']\n",
    "print(selected_feature)"
   ]
  },
  {
   "cell_type": "code",
   "execution_count": 38,
   "id": "eca83369",
   "metadata": {},
   "outputs": [],
   "source": [
    "#replacing the null values with null string\n",
    "for feature in selected_feature:\n",
    "    movies_data[feature]= movies_data[feature].fillna('')\n"
   ]
  },
  {
   "cell_type": "code",
   "execution_count": 39,
   "id": "110e7cba",
   "metadata": {},
   "outputs": [],
   "source": [
    "#combining all the 5 selected features\n",
    "combined_features=movies_data['genre']+' '+movies_data['description']+' '+movies_data['cast']+' '+movies_data['director']\n"
   ]
  },
  {
   "cell_type": "code",
   "execution_count": 40,
   "id": "88922f0a",
   "metadata": {},
   "outputs": [
    {
     "name": "stdout",
     "output_type": "stream",
     "text": [
      "0       [ \"Biography\", \"Drama\", \"Thriller\" ] Neerja is...\n",
      "1       [ \"Crime\", \"Drama\", \"Thriller\" ] A story that ...\n",
      "2       [ \"Drama\", \"Musical\", \"Romance\" ] Yashvardhan ...\n",
      "3       [ \"Comedy\", \"Drama\", \"Romance\" ] Naina, an int...\n",
      "4       [ \"Drama\" ] 'Parched' is a story about women s...\n",
      "                              ...                        \n",
      "2845    [ \"Crime\" ]  [ \"V. Ravichandran\", \"Kushboo\", \"...\n",
      "2846    [ \"Romance\" ]  [ \"Chethan Kumar\", \"Nithya Meno...\n",
      "2847    [ \"Comedy\", \"Drama\" ] The plot is simple. Rang...\n",
      "2848    [ \"Comedy\", \"Romance\" ]  [ \"Ganesh\", \"Amulya\",...\n",
      "2849                    []  [] [ \"S.R. Puttana Kanagal\" ]\n",
      "Length: 2850, dtype: object\n"
     ]
    }
   ],
   "source": [
    "print(combined_features)"
   ]
  },
  {
   "cell_type": "code",
   "execution_count": 41,
   "id": "beea1376",
   "metadata": {},
   "outputs": [],
   "source": [
    "\n",
    "#converting the text data into feature vector \n",
    "vectoriser= TfidfVectorizer()\n",
    "feature_vector=vectoriser.fit_transform(combined_features)\n"
   ]
  },
  {
   "cell_type": "code",
   "execution_count": 42,
   "id": "5ead15c5",
   "metadata": {},
   "outputs": [
    {
     "name": "stdout",
     "output_type": "stream",
     "text": [
      "  (0, 8460)\t0.14501909025973883\n",
      "  (0, 11878)\t0.07859918231566292\n",
      "  (0, 1959)\t0.11677031619529202\n",
      "  (0, 5100)\t0.14501909025973883\n",
      "  (0, 1561)\t0.11357021731284352\n",
      "  (0, 12733)\t0.12893640097916093\n",
      "  (0, 1258)\t0.14501909025973883\n",
      "  (0, 12531)\t0.10852083590813218\n",
      "  (0, 1118)\t0.10215113676113431\n",
      "  (0, 2333)\t0.10140413252897462\n",
      "  (0, 854)\t0.14501909025973883\n",
      "  (0, 1100)\t0.08998505197726542\n",
      "  (0, 5944)\t0.13790238688058132\n",
      "  (0, 569)\t0.14501909025973883\n",
      "  (0, 10737)\t0.12893640097916093\n",
      "  (0, 343)\t0.14501909025973883\n",
      "  (0, 7730)\t0.12068692069200106\n",
      "  (0, 14075)\t0.14501909025973883\n",
      "  (0, 16208)\t0.13790238688058132\n",
      "  (0, 1598)\t0.14501909025973883\n",
      "  (0, 621)\t0.14432048923322272\n",
      "  (0, 13120)\t0.14501909025973883\n",
      "  (0, 6975)\t0.13285300547586995\n",
      "  (0, 16724)\t0.13285300547586995\n",
      "  (0, 253)\t0.13790238688058132\n",
      "  :\t:\n",
      "  (2847, 15468)\t0.11562398286470142\n",
      "  (2847, 6379)\t0.05980348360092961\n",
      "  (2847, 15316)\t0.10369024522620197\n",
      "  (2847, 6613)\t0.06552411401147655\n",
      "  (2847, 4282)\t0.04299422764710824\n",
      "  (2848, 16644)\t0.33323130823250807\n",
      "  (2848, 10018)\t0.2889224609322879\n",
      "  (2848, 796)\t0.2962757903123147\n",
      "  (2848, 7773)\t0.22679376931128176\n",
      "  (2848, 10755)\t0.28270530952760836\n",
      "  (2848, 14969)\t0.2889224609322879\n",
      "  (2848, 1380)\t0.22268870521678513\n",
      "  (2848, 12771)\t0.20765809571187427\n",
      "  (2848, 9740)\t0.19408761492716786\n",
      "  (2848, 816)\t0.2067716501189448\n",
      "  (2848, 14684)\t0.2330109207159613\n",
      "  (2848, 8787)\t0.2297826661730392\n",
      "  (2848, 15134)\t0.24691890682501696\n",
      "  (2848, 5203)\t0.20105865091505642\n",
      "  (2848, 1213)\t0.2297826661730392\n",
      "  (2848, 16625)\t0.205055150607798\n",
      "  (2848, 3235)\t0.11506081551032167\n",
      "  (2848, 12548)\t0.11470151112150336\n",
      "  (2849, 7300)\t0.7071067811865475\n",
      "  (2849, 11583)\t0.7071067811865475\n"
     ]
    }
   ],
   "source": [
    "print(feature_vector)"
   ]
  },
  {
   "cell_type": "code",
   "execution_count": 43,
   "id": "21c27591",
   "metadata": {},
   "outputs": [],
   "source": [
    "# getting the similarity score using cosine similarity \n",
    "similarity =cosine_similarity(feature_vector)"
   ]
  },
  {
   "cell_type": "code",
   "execution_count": 44,
   "id": "d58c77aa",
   "metadata": {},
   "outputs": [
    {
     "name": "stdout",
     "output_type": "stream",
     "text": [
      "[[1.         0.0421559  0.02150278 ... 0.02340408 0.         0.        ]\n",
      " [0.0421559  1.         0.04215618 ... 0.02104319 0.         0.        ]\n",
      " [0.02150278 0.04215618 1.         ... 0.00869922 0.00683302 0.        ]\n",
      " ...\n",
      " [0.02340408 0.02104319 0.00869922 ... 1.         0.14085143 0.        ]\n",
      " [0.         0.         0.00683302 ... 0.14085143 1.         0.        ]\n",
      " [0.         0.         0.         ... 0.         0.         1.        ]]\n"
     ]
    }
   ],
   "source": [
    "print(similarity)"
   ]
  },
  {
   "cell_type": "code",
   "execution_count": 45,
   "id": "720ff8a9",
   "metadata": {},
   "outputs": [
    {
     "name": "stdout",
     "output_type": "stream",
     "text": [
      "Movies suggested for you : \n",
      "\n",
      "1 . Udta Punjab\n",
      "2 . Punjab 1984\n",
      "3 . Chehere: A Modern Day Classic\n",
      "4 . Sikander\n",
      "5 . Proud to Be a Sikh\n",
      "6 . Shareek\n",
      "7 . Chann Pardesee\n",
      "8 . Kapoor & Sons\n",
      "9 . Bandit Queen\n",
      "10 . Gelo\n",
      "11 . Mannat\n",
      "12 . Naam\n",
      "13 . Sakshatkara\n",
      "14 . Omkara\n",
      "15 . Tiger\n",
      "16 . Marhi Da Deeva\n",
      "17 . Deewaar\n",
      "18 . Jab We Met\n",
      "19 . Yeh Saali Zindagi\n",
      "20 . Anhey gorhey da daan\n",
      "21 . Bajrangi Bhaijaan\n",
      "22 . Naya Pata\n",
      "23 . Rocket Singh: Salesman of the Year\n",
      "24 . Pyaar Ki Jeet\n",
      "25 . Aag\n",
      "26 . Kai po che!\n",
      "27 . Dulaara\n",
      "28 . Haider\n",
      "29 . Chak Jawana\n"
     ]
    }
   ],
   "source": [
    "# getting the movie name from the user\n",
    "movie_name=input(\"Enter your favorite movie name or the genre : \")\n",
    "# create the movies list that given in the dataset\n",
    "list_of_all_title=movies_data['name'].tolist()\n",
    "find_close_match=difflib.get_close_matches(movie_name,list_of_all_title)\n",
    "#print(find_close_match)\n",
    "close_match= find_close_match[0]\n",
    "#print(close_match)\n",
    "index_of_the_movie=movies_data[movies_data.name==close_match]['index'].values[0]\n",
    "#print(index_of_the_movie)\n",
    "# getting a list of similar movie\n",
    "similarity_score=list(enumerate(similarity[index_of_the_movie]))\n",
    "#sorting the movies bases on their similarity score\n",
    "sorted_similar_movies= sorted(similarity_score,key= lambda x:x[1],reverse=True)\n",
    "# print the name of the similary movies based on the index\n",
    "print(\"Movies suggested for you : \\n\")\n",
    "i=1\n",
    "for movie in sorted_similar_movies:\n",
    "    index=movie[0]\n",
    "    title_from_index=movies_data[movies_data.index==index]['name'].values[0]\n",
    "    if i<30:\n",
    "        print(i, '.',title_from_index)\n",
    "        i+=1\n"
   ]
  },
  {
   "cell_type": "code",
   "execution_count": null,
   "id": "fe99fc20",
   "metadata": {},
   "outputs": [],
   "source": []
  }
 ],
 "metadata": {
  "kernelspec": {
   "display_name": "Python 3 (ipykernel)",
   "language": "python",
   "name": "python3"
  },
  "language_info": {
   "codemirror_mode": {
    "name": "ipython",
    "version": 3
   },
   "file_extension": ".py",
   "mimetype": "text/x-python",
   "name": "python",
   "nbconvert_exporter": "python",
   "pygments_lexer": "ipython3",
   "version": "3.10.7"
  }
 },
 "nbformat": 4,
 "nbformat_minor": 5
}
