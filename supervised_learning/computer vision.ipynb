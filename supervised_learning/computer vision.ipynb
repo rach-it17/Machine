{
 "cells": [
  {
   "cell_type": "code",
   "execution_count": 2,
   "metadata": {},
   "outputs": [
    {
     "name": "stderr",
     "output_type": "stream",
     "text": [
      "c:\\Users\\rachi\\AppData\\Local\\Programs\\Python\\Python310\\lib\\site-packages\\numpy\\_distributor_init.py:30: UserWarning: loaded more than 1 DLL from .libs:\n",
      "c:\\Users\\rachi\\AppData\\Local\\Programs\\Python\\Python310\\lib\\site-packages\\numpy\\.libs\\libopenblas.FB5AE2TYXYH2IJRDKGDGQ3XBKLKTF43H.gfortran-win_amd64.dll\n",
      "c:\\Users\\rachi\\AppData\\Local\\Programs\\Python\\Python310\\lib\\site-packages\\numpy\\.libs\\libopenblas.XWYDX2IKJW2NMTWSFYNGFUWKQU3LYTCZ.gfortran-win_amd64.dll\n",
      "  warnings.warn(\"loaded more than 1 DLL from .libs:\"\n"
     ]
    }
   ],
   "source": [
    "import cv2"
   ]
  },
  {
   "cell_type": "code",
   "execution_count": 7,
   "metadata": {},
   "outputs": [],
   "source": [
    "img=cv2.imread(\"goku.jpg\")\n",
    "cv2.imshow(\"window\",img)\n",
    "cv2.waitKey(2000)\n",
    "cv2.destroyWindow(\"window\")\n"
   ]
  },
  {
   "cell_type": "code",
   "execution_count": 8,
   "metadata": {},
   "outputs": [],
   "source": [
    "img2=cv2.cvtColor(img,cv2.COLOR_BGR2GRAY)\n",
    "cv2.imshow(\"window2\",img2)\n",
    "cv2.waitKey(2000)\n",
    "cv2.destroyAllWindows()"
   ]
  },
  {
   "cell_type": "code",
   "execution_count": 9,
   "metadata": {},
   "outputs": [],
   "source": [
    "cv2.imshow(\"window\",img2)\n",
    "res=cv2.resize(img,[400,400])\n",
    "cv2.imshow(\"window3\",res)\n",
    "cv2.waitKey(200)\n",
    "cv2.destroyAllWindows()"
   ]
  },
  {
   "cell_type": "code",
   "execution_count": 10,
   "metadata": {},
   "outputs": [
    {
     "data": {
      "text/plain": [
       "True"
      ]
     },
     "execution_count": 10,
     "metadata": {},
     "output_type": "execute_result"
    }
   ],
   "source": [
    "cv2.imwrite(\"goku.jpeg\",res)\n"
   ]
  },
  {
   "cell_type": "code",
   "execution_count": 11,
   "metadata": {},
   "outputs": [],
   "source": [
    "#color contrast and brightness\n",
    "img_e=cv2.convertScaleAbs(res,alpha=100, beta=100)\n",
    "cv2.imshow(\"window\",img_e)\n",
    "cv2.waitKey()\n",
    "cv2.destroyAllWindows()"
   ]
  },
  {
   "cell_type": "code",
   "execution_count": 12,
   "metadata": {},
   "outputs": [],
   "source": [
    "#flip image\n",
    "flip=cv2.flip(img,flipCode=-1)\n",
    "cv2.imshow(\"flipimage\",flip)\n",
    "cv2.waitKey()\n",
    "cv2.destroyAllWindows()"
   ]
  },
  {
   "cell_type": "code",
   "execution_count": 13,
   "metadata": {},
   "outputs": [],
   "source": [
    "#split color\n",
    "blue,green,red=cv2.split(img)\n",
    "cv2.imshow(\"blue\",blue)\n",
    "cv2.imshow(\"green\",green)\n",
    "cv2.imshow(\"red\",red)\n",
    "cv2.waitKey()\n",
    "cv2.destroyAllWindows()"
   ]
  },
  {
   "cell_type": "code",
   "execution_count": 14,
   "metadata": {},
   "outputs": [],
   "source": [
    "#draw rectangle on image\n",
    "img=cv2.imread(\"goku.jpg\")\n",
    "img2=cv2.cvtColor(img,cv2.COLOR_BGR2GRAY)\n",
    "cv2.rectangle(img2,(40,40),(300,300),(0,0,255),2)\n",
    "cv2.imshow(\"window\",img2)\n",
    "cv2.waitKey()\n",
    "cv2.destroyAllWindows()"
   ]
  },
  {
   "cell_type": "code",
   "execution_count": 6,
   "metadata": {},
   "outputs": [],
   "source": [
    "#face detection\n",
    "\n",
    "Model_face=cv2.CascadeClassifier(\"trained model\\haarcascade_frontalface_alt_tree.xml\")\n",
    "img=cv2.imread(\"sachine2.webp\")\n",
    "img2=cv2.cvtColor(img,cv2.COLOR_BGR2GRAY)\n",
    "face=Model_face.detectMultiScale(img2,minNeighbors=1)\n",
    "for x,y,w,h in face:\n",
    "    cv2.rectangle(img,(x,y,w,h),(0,0,255),2)\n",
    "cv2.imshow(\"window\",img)\n",
    "cv2.waitKey()\n",
    "cv2.destroyAllWindows()"
   ]
  },
  {
   "cell_type": "code",
   "execution_count": 5,
   "metadata": {},
   "outputs": [],
   "source": [
    "img_vid=cv2.VideoCapture(0)\n",
    "Model_face=cv2.CascadeClassifier(\"trained model\\haarcascade_frontalface_alt_tree.xml\")\n",
    "i=1\n",
    "while True:\n",
    "    flag,img=img_vid.read()\n",
    "    if flag==False:\n",
    "        break\n",
    "    img2=cv2.cvtColor(img,cv2.COLOR_BGR2GRAY)\n",
    "    face=Model_face.detectMultiScale(img2,minNeighbors=1)\n",
    "    for x,y,w,h in face:\n",
    "        cv2.rectangle(img,(x,y,w,h),(0,0,255),2)\n",
    "        img3=img2[y:y+h,x:x+w]\n",
    "        img4=cv2.resize(img3,(100,100))\n",
    "    cv2.imshow(\"window\",img)\n",
    "    key=cv2.waitKey(50)\n",
    "    if key==ord(\"c\"):\n",
    "        break\n",
    "cv2.destroyAllWindows()\n",
    "img_vid.release()"
   ]
  },
  {
   "cell_type": "code",
   "execution_count": null,
   "metadata": {},
   "outputs": [],
   "source": []
  }
 ],
 "metadata": {
  "kernelspec": {
   "display_name": "Python 3",
   "language": "python",
   "name": "python3"
  },
  "language_info": {
   "codemirror_mode": {
    "name": "ipython",
    "version": 3
   },
   "file_extension": ".py",
   "mimetype": "text/x-python",
   "name": "python",
   "nbconvert_exporter": "python",
   "pygments_lexer": "ipython3",
   "version": "3.10.7"
  },
  "orig_nbformat": 4
 },
 "nbformat": 4,
 "nbformat_minor": 2
}
