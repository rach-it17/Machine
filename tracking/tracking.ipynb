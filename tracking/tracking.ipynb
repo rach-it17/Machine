{
 "cells": [
  {
   "cell_type": "code",
   "execution_count": 1,
   "metadata": {},
   "outputs": [
    {
     "name": "stderr",
     "output_type": "stream",
     "text": [
      "c:\\Users\\rachi\\AppData\\Local\\Programs\\Python\\Python310\\lib\\site-packages\\numpy\\_distributor_init.py:30: UserWarning: loaded more than 1 DLL from .libs:\n",
      "c:\\Users\\rachi\\AppData\\Local\\Programs\\Python\\Python310\\lib\\site-packages\\numpy\\.libs\\libopenblas.FB5AE2TYXYH2IJRDKGDGQ3XBKLKTF43H.gfortran-win_amd64.dll\n",
      "c:\\Users\\rachi\\AppData\\Local\\Programs\\Python\\Python310\\lib\\site-packages\\numpy\\.libs\\libopenblas.XWYDX2IKJW2NMTWSFYNGFUWKQU3LYTCZ.gfortran-win_amd64.dll\n",
      "  warnings.warn(\"loaded more than 1 DLL from .libs:\"\n"
     ]
    }
   ],
   "source": [
    "import cv2\n",
    "import glob\n",
    "import numpy as np"
   ]
  },
  {
   "cell_type": "code",
   "execution_count": 33,
   "metadata": {},
   "outputs": [],
   "source": [
    "import cv2\n",
    "import numpy as np\n",
    "\n",
    "# Define the lower and upper bounds for the blue color\n",
    "blue_lower = np.array([40, 50, 50])\n",
    "blue_upper = np.array([80, 255, 255])\n",
    "\n",
    "# Open the video stream\n",
    "cap = cv2.VideoCapture(r'C:\\Users\\rachi\\Desktop\\py\\Machine\\tracking\\ai - Made with Clipchamp.mp4')\n",
    "\n",
    "\n",
    "# Check if the video stream was opened successfully\n",
    "if not cap.isOpened():\n",
    "    print(\"Error opening video stream\")\n",
    "    exit()\n",
    "\n",
    "# Loop through the frames of the video stream\n",
    "while True:\n",
    "    # Read the next frame from the video stream\n",
    "    ret, frame = cap.read()\n",
    "\n",
    "    # Check if the frame was successfully read\n",
    "    if not ret:\n",
    "        print(\"End of video stream\")\n",
    "        break\n",
    "\n",
    "    # Convert the frame from BGR to HSV color space\n",
    "    hsv = cv2.cvtColor(frame, cv2.COLOR_BGR2HSV)\n",
    "\n",
    "    # Create a mask for the blue ball\n",
    "    blue_mask = cv2.inRange(hsv, blue_lower, blue_upper)\n",
    "\n",
    "    # Perform blob detection on the masked image\n",
    "    params = cv2.SimpleBlobDetector_Params()\n",
    "\n",
    "    # Set the threshold\n",
    "    params.minThreshold = 10\n",
    "    params.maxThreshold = 200\n",
    "\n",
    "    # Set the area range\n",
    "    params.filterByArea = True\n",
    "    params.minArea = 50\n",
    "    params.maxArea = 10000\n",
    "\n",
    "    # Set the circularity range\n",
    "    params.filterByCircularity = True\n",
    "    params.minCircularity = 0.1\n",
    "    params.maxCircularity = 1.0\n",
    "\n",
    "    # Set the convexity range\n",
    "    params.filterByConvexity = True\n",
    "    params.minConvexity = 0.87\n",
    "    params.maxConvexity = 1.0\n",
    "\n",
    "    # Set the inertia range\n",
    "    params.filterByInertia = True\n",
    "    params.minInertiaRatio = 0.01\n",
    "    params.maxInertiaRatio = 1.0\n",
    "\n",
    "    # Create a blob detector object\n",
    "    detector = cv2.SimpleBlobDetector_create(params)\n",
    "\n",
    "    # Detect the blobs in the masked image\n",
    "    keypoints = detector.detect(blue_mask)\n",
    "\n",
    "    # Draw circles around the detected blobs\n",
    "    for keypoint in keypoints:\n",
    "        x = int(keypoint.pt[0])\n",
    "        y = int(keypoint.pt[1])\n",
    "        size = int(keypoint.size)\n",
    "        color=\"blue\"\n",
    "\n",
    "        cv2.circle(frame, (x, y), size, (0, 255, 0), 2)\n",
    "        cv2.putText(frame, color, (x, y), cv2.FONT_HERSHEY_SIMPLEX,0.5, (0, 255, 0), 2)\n",
    "\n",
    "    # Display the resulting image\n",
    "    cv2.imshow(\"Ball Detection\", frame)\n",
    "\n",
    "    # Check if the user pressed the \"q\" key to quit\n",
    "    if cv2.waitKey(1) & 0xFF == ord('q'):\n",
    "        break\n",
    "\n",
    "# Release the video stream and close all windows\n",
    "cap.release()\n",
    "cv2.destroyAllWindows()\n"
   ]
  },
  {
   "cell_type": "code",
   "execution_count": null,
   "metadata": {},
   "outputs": [],
   "source": []
  }
 ],
 "metadata": {
  "kernelspec": {
   "display_name": "Python 3",
   "language": "python",
   "name": "python3"
  },
  "language_info": {
   "codemirror_mode": {
    "name": "ipython",
    "version": 3
   },
   "file_extension": ".py",
   "mimetype": "text/x-python",
   "name": "python",
   "nbconvert_exporter": "python",
   "pygments_lexer": "ipython3",
   "version": "3.10.7"
  },
  "orig_nbformat": 4,
  "vscode": {
   "interpreter": {
    "hash": "6d9302da00b5fbada392c9772ae45465171cf1e670fc250da450c1238d7ab19a"
   }
  }
 },
 "nbformat": 4,
 "nbformat_minor": 2
}
